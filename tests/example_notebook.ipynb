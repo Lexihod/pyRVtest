{
 "cells": [
  {
   "cell_type": "markdown",
   "source": [
    "import numpy as np\n",
    "import pandas as pd\n",
    "import pyblp\n",
    "import pyRVtest\n",
    "\n",
    "pyRVtest.__version__"
   ],
   "metadata": {
    "collapsed": false
   }
  },
  {
   "cell_type": "markdown",
   "source": [
    "# Loading the main dataset"
   ],
   "metadata": {
    "collapsed": false
   }
  },
  {
   "cell_type": "markdown",
   "source": [
    "First, load the example data from pyblp."
   ],
   "metadata": {
    "collapsed": false
   }
  },
  {
   "cell_type": "code",
   "execution_count": 3,
   "outputs": [
    {
     "ename": "NameError",
     "evalue": "name 'pd' is not defined",
     "output_type": "error",
     "traceback": [
      "\u001B[0;31m---------------------------------------------------------------------------\u001B[0m",
      "\u001B[0;31mNameError\u001B[0m                                 Traceback (most recent call last)",
      "Cell \u001B[0;32mIn [3], line 1\u001B[0m\n\u001B[0;32m----> 1\u001B[0m product_data \u001B[38;5;241m=\u001B[39m \u001B[43mpd\u001B[49m\u001B[38;5;241m.\u001B[39mread_csv(pyblp\u001B[38;5;241m.\u001B[39mdata\u001B[38;5;241m.\u001B[39mNEVO_PRODUCTS_LOCATION)\n",
      "\u001B[0;31mNameError\u001B[0m: name 'pd' is not defined"
     ]
    }
   ],
   "source": [
    "    product_data = pd.read_csv(pyblp.data.NEVO_PRODUCTS_LOCATION)"
   ],
   "metadata": {
    "collapsed": false
   }
  },
  {
   "cell_type": "markdown",
   "source": [
    "Next, solve for demand:"
   ],
   "metadata": {
    "collapsed": false
   }
  },
  {
   "cell_type": "code",
   "execution_count": null,
   "outputs": [],
   "source": [
    "    # use pyblp package for demand estimation\n",
    "    pyblp_problem = pyblp.Problem(\n",
    "        product_formulations=(\n",
    "            pyblp.Formulation('0 + prices ', absorb='C(product_ids)'),\n",
    "            pyblp.Formulation('1 + prices + sugar + mushy'),\n",
    "            ),\n",
    "        agent_formulation=pyblp.Formulation('0 + income + income_squared + age + child'),\n",
    "        product_data=product_data,\n",
    "        agent_data=pd.read_csv(pyblp.data.NEVO_AGENTS_LOCATION)\n",
    "        )\n",
    "\n",
    "    # return pyblp results\n",
    "    pyblp_results = pyblp_problem.solve(\n",
    "      sigma=np.diag([0.3302, 2.4526, 0.0163, 0.2441]),\n",
    "      pi=[\n",
    "          [5.4819,   0.0000,  0.2037, 0.0000],\n",
    "          [15.8935, -1.2000,  0.0000, 2.6342],\n",
    "          [-0.2506,  0.0000,  0.0511, 0.0000],\n",
    "          [1.2650,   0.0000, -0.8091, 0.0000]\n",
    "      ],\n",
    "      method='1s',\n",
    "      optimization=pyblp.Optimization('bfgs', {'gtol': 1e-5})\n",
    "      )"
   ],
   "metadata": {
    "collapsed": false
   }
  }
 ],
 "metadata": {
  "kernelspec": {
   "display_name": "Python 3",
   "language": "python",
   "name": "python3"
  },
  "language_info": {
   "codemirror_mode": {
    "name": "ipython",
    "version": 2
   },
   "file_extension": ".py",
   "mimetype": "text/x-python",
   "name": "python",
   "nbconvert_exporter": "python",
   "pygments_lexer": "ipython2",
   "version": "2.7.6"
  }
 },
 "nbformat": 4,
 "nbformat_minor": 0
}
