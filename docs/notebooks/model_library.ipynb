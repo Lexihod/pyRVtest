{
 "cells": [
  {
   "cell_type": "markdown",
   "metadata": {},
   "source": [
    "# Library of Models"
   ]
  },
  {
   "cell_type": "code",
   "execution_count": 1,
   "outputs": [],
   "source": [
    "import pyRVtest"
   ],
   "metadata": {
    "collapsed": false
   }
  },
  {
   "cell_type": "markdown",
   "source": [
    "Here, we document the library of models that is currently supported by pyRVtest and how the user can specify them as a `ModelFormulation`.  The current library of models includes:\n",
    "* Bertrand Competition with Differentiated Products\n",
    "* Cournot Competition with Differentiated Products\n",
    "* Monopoly\n",
    "* Bertrand and Cournot Competition with Profit Weights\n",
    "* Non-Profit Conduct Models\n",
    "* Marginal Cost Pricing (i.e., zero markup models)\n",
    "* Rule-of-Thumb Modesl (i.e., markups as a fixed percentage of price or cost)\n",
    "* Bertrand with Scaled Costs\n",
    "* Constant Markup Models (that do not vary with demand or cost)\n",
    "* Vertical Models\n",
    "\n",
    "We also detail two options for how a user can test models outside this class.\n"
   ],
   "metadata": {
    "collapsed": false
   }
  },
  {
   "cell_type": "markdown",
   "metadata": {},
   "source": [
    "## Preliminaries and notation\n",
    "\n",
    "Throughout, we consider settings in which potentially multi-product firms, indexed by $f$ compete across markets, indexed by $t$.  In each market, there are $J_t$ products offered.  Each firm $f$ offers a distinct subset of those products, $\\mathcal{J}_{ft}$. We use the $jt$ index to denote observations at the product-market level and we use the $t$ index to denote the vector which stacks all of the $J_t$ observations in market $t$.  Demand for product $j$ in market $t$, which depends on $p_t$, the price of all products in the market, is denoted $s_{jt}(p_t)$.  Relizations of market shares across products in market $t$ at the equilibrium prices $p_t$ are denoted $s_t$. We denote the $J_t \\times J_t$ matrix of own- and cross-price derivatives as $\\frac{\\partial s_t}{\\partial p_t}$, so that the $(j,k)$-th element denotes the marginal effect of an increase in the price of product $k$ on the market share of product $j$.     \n",
    "\n",
    "The researcher observes, in each market $t$, realizations of equilibrium prices and shares for a true model of conduct which generated the data: $p_t$ and $s_t$. The reasearcher does not know the true model, but wishes to test a menu $M$.  For each model $m$ in the menu, the stacked first order condition in market $t$ can be expressed as:\n",
    "$$p_t - c_{mt} = \\Delta_{mt}$$\n",
    "Here, $\\Delta_{mt}$ are the stacked markups implied by model $m$ in market $t$.  For the models we consider, the markups $\\Delta_{mt}$ can be expressed as known functions of prices and exogenous variables and typically depend on the demand system.  Thus, given equilibrium outcomes, the known market structure (i.e., which firm sells which products), and the demand system, $\\Delta_{mt}$ can be computed.  $c_{mt}$ are the marginal costs implied by the model which satisfy the system of first order conditions. \n",
    "\n",
    "To specify a menu of models in pyRVtest, the researcher creates a `ModelFormulation` for each of the models in the menu when defining the testing problem.  In what follows, we show how to specify the `ModelFormulation` for the class of models that the code can currently handle.  "
   ]
  },
  {
   "cell_type": "markdown",
   "metadata": {},
   "source": [
    "## Bertrand Competition: $m=B$\n",
    "\n",
    "Suppose the researcher wants to include in the menu of models the Bertrand-Nash model of competition in prices.  In market $t$, firm $f$ sets prices for all $j\\in\\mathcal{J}_{ft}$ to maximize the sum of its profits across those products.  Letting $p_{ft}$ be the vector of those prices, the firm solves:\n",
    "$$ \\max_{p_{ft}} \\sum_{j\\in\\mathcal{J}_{ft}} (p_{jt} - c_{jt}) s_{jt}(p_{t})$$ \n",
    "The stacked first-order conditions across firms in market $t$ can be written as $(p_{t} - c_{t}) = \\Delta_{Bt}$ where $\\Delta_{Bt}$ is:\n",
    "$$\n",
    "\\Delta_{Bt} \\quad = \\quad \\left(\\Omega_t \\odot \\frac{\\partial s_t}{\\partial p_t} \\right)^{-1}s_t.\n",
    "$$\n",
    "Here, $\\Omega_t$ is the standard $J_t\\times J_t$ ownership matrix so that the $(j,k)$-th element is 1 if products $j$ and $k$ are sold by the same firm, and 0 otherwise.  Furthermore, $\\odot$ denotes element-by-element multiplication.\n",
    "\n",
    "To include Bertrand as one of the models to test with pyRVtest, the researcher must include in the `product_data` a column for which each row indicates the identity of the firm selling the corresponding product.  If that column is named `firm_ids`, then the Bertrand model can be specified with the following `ModelFormulation`. "
   ]
  },
  {
   "cell_type": "code",
   "execution_count": 2,
   "metadata": {},
   "outputs": [],
   "source": [
    "model_formulation = pyRVtest.ModelFormulation(model_downstream='bertrand', ownership_downstream='firm_ids')"
   ]
  },
  {
   "cell_type": "markdown",
   "metadata": {},
   "source": [
    "Note that, we label the options `model_downstream` and `ownership_downstream` as the code also accomodates vertical models.  See the example below."
   ]
  },
  {
   "cell_type": "markdown",
   "metadata": {},
   "source": [
    "## Monopoly: $m=M$\n",
    "\n",
    "Now suppose that in market $t$, prices $p_{jt}$ are chosen to maximize the sum of its profits across all products in market $t$, or:\n",
    "$$\\max_{p_{t}} \\sum_{j\\in \\mathcal{J}_{t}} (p_{jt} - c_{jt}) s_{jt}(p_{t})$$\n",
    "This can arise in settings with more than one firm if the firms are perfectly colluding.  The stacked first-order conditions across firms in market $t$ can be written as $(p_{t} - c_{t}) = \\Delta_{Mt}$ where $\\Delta_{Mt}$ is:\n",
    "$$\n",
    "\\Delta_{Mt} \\quad = \\quad \\left(1_t \\odot \\frac{\\partial s_t}{\\partial p_t} \\right)^{-1}s_t.\n",
    "$$\n",
    "Here, $1_t$ is a $J_t\\times J_t$ matrix of ones. \n",
    "\n",
    "The researcher can specify Monopoly as one of the models to test with pyRVtest, using the following `ModelFormulation`.  Note that here, if the researcher was to include a ownership_downstream option, the package will override this and build the ownership matrix in each market as a matrix of ones.   "
   ]
  },
  {
   "cell_type": "code",
   "execution_count": 3,
   "metadata": {},
   "outputs": [],
   "source": [
    "model_formulation = pyRVtest.ModelFormulation(model_downstream='monopoly')"
   ]
  },
  {
   "cell_type": "markdown",
   "metadata": {},
   "source": [
    "## Cournot Competition with Differentiated Products: $m=C$\n",
    "\n",
    "Suppose the researcher wants to include in the menu of models Cournot competition (quantity-setting) with differentiated products, in which each firm simultaneously chooses market shares for its $\\mathcal{J}_{ft}$ products,  $s_{ft}$, to maximize:\n",
    "$$\\max_{s_{ft}} \\sum_{j\\in \\mathcal{J}_{ft}} s_{jt} (p_{jt}(s_t) - c_{jt})$$ where $p_{jt}(s_t)$ represents inverse demand for product $j$ in market $t$.  The stacked first-order conditions are $p_{jt} - c_{jt} = \\Delta_{Ct}$ where $\\Delta_{Ct}$ is:\n",
    "$$\n",
    "\\Delta_{Ct} \\quad = \\quad \\left(\\Omega_t \\odot \\left(\\frac{\\partial s_t}{\\partial p_t} \\right)^{-1}\\right)s_t.\n",
    "$$\n",
    "\n",
    "Here, $\\Omega_t$ is the standard $J_t\\times J_t$ ownership matrix so that the $(j,k)$-th elemenmt is 1 if product $j$ and $k$ are sold by the same firm, and 0 otherwise.  Furthermore, $\\odot$ denotes element-by-element multiplication.\n",
    "\n",
    "To include Cournot as one of the models to test with pyRVtest, the researcher must include in the `product_data` a column for which the i-th row indicates the identity of the firm selling the corresponding product.  If that column is named `firm_ids`, then the Cournot model can be specified with the following `ModelFormulation`. "
   ]
  },
  {
   "cell_type": "code",
   "execution_count": 4,
   "metadata": {},
   "outputs": [],
   "source": [
    "model_formulation = pyRVtest.ModelFormulation(model_downstream='cournot', ownership_downstream='firm_ids')"
   ]
  },
  {
   "cell_type": "markdown",
   "metadata": {},
   "source": [
    "## Bertrand and Cournot with Profit Weights: $m=PW$\n",
    "\n",
    "Suppose the researcher wants to include in the menu of models either price or quantity competition in which the firms partially internalize the effect of their actions on their rivals' profits.  This can occur, for example, in a model of common ownership (e.g., Backus, Conlon, and Sinkinson (2022)) or imperfect collusion (e.g., Miller and Weinberg (2017)).  Now, the first order conditions of the Bertrand and Cournot models contain an ownership matrix specified by the user for which the $(j,k)$-th element may be $\\lambda_{jk} \\in [0,1]$.\n",
    "\n",
    "For example, to include Bertrand with a given set of profit weights  as one of the models to test with pyRVtest, the researcher  specifies within the `ModelFormulation`, a `kappa_specification` as used in the `build_ownership` function in PyBLP $\\url{https://pyblp.readthedocs.io/en/stable/_api/pyblp.build_ownership.html}$:"
   ]
  },
  {
   "cell_type": "code",
   "execution_count": 5,
   "metadata": {},
   "outputs": [],
   "source": [
    "kappa_specification = 1\n",
    "model_formulation = pyRVtest.ModelFormulation(model_downstream='bertrand', ownership_downstream='firm_ids', kappa_specification_downstream = kappa_specification)"
   ]
  },
  {
   "cell_type": "markdown",
   "metadata": {},
   "source": [
    "Likewise, to include Cournot with the given profit weights, the `ModelFormulation` is:"
   ]
  },
  {
   "cell_type": "code",
   "execution_count": 6,
   "metadata": {},
   "outputs": [],
   "source": [
    "model_formulation = pyRVtest.ModelFormulation(model_downstream='cournot', ownership_downstream='firm_ids', kappa_specification_downstream = kappa_specification)"
   ]
  },
  {
   "cell_type": "markdown",
   "metadata": {},
   "source": [
    "## Non-profit Conduct: $m=N$\n",
    "\n",
    "Suppose the researcher wants to model non-profit conduct where firms choose their own prices maximize a weighted sum of profit and consumer surplus as in (Duarte, Magnolfi, and Roncoroni (2022)) where non-profit firms place a  weight of $1-\\lambda_m \\in (0,1)$ on welfare relative to profit.  This can be achieved by augmenting the first order conditions of the Bertrand model above.  Specifically, one adjusts $\\Omega_t$ by setting the $(j,k)$-th element of the ownership matrix to $1/\\lambda_{jk}$ if the firm selling products $j$ and $k$ is a non-profit.\n",
    "\n",
    "For example, to test a model in which non-profit firms have given welfare weights with pyRVtest, the researcher  specifies within the `ModelFormulation`, a `kappa_specification` encoding those weights as used in the `build_ownership` function in `PyBLP <https://pyblp.readthedocs.io/en/stable/_api/pyblp.build_ownership.html>`_:"
   ]
  },
  {
   "cell_type": "code",
   "execution_count": 7,
   "metadata": {},
   "outputs": [],
   "source": [
    "model_formulation = pyRVtest.ModelFormulation(model_downstream='bertrand', ownership_downstream='firm_ids', kappa_specification_downstream = kappa_specification)"
   ]
  },
  {
   "cell_type": "markdown",
   "metadata": {},
   "source": [
    "## Marginal Cost Pricing (Perfect Competition / Zero Markup): $m=PC$\n",
    "\n",
    "Consider a class of models where firms selling differentiated products set prices equal to marginal costs so that  markups are zero, $\\Delta_{PCt} = 0$.  \n",
    "\n",
    "For example, to include marginal cost pricing in the menu of models to test with pyRVtest, the researcher includes the following `ModelFormulation`.  Note that here, if the researcher was to include a ownership_downstream option, the package will override this set markups to zero.   "
   ]
  },
  {
   "cell_type": "code",
   "execution_count": 8,
   "metadata": {},
   "outputs": [],
   "source": [
    "model_formulation = pyRVtest.ModelFormulation(model_downstream='perfect_competition')"
   ]
  },
  {
   "cell_type": "markdown",
   "metadata": {},
   "source": [
    "## Rule of Thumb Models: $m=R$\n",
    "\n",
    "Consider a class of models where markups are a fraction $\\lambda_m$ of price or cost.  For example,  suppose the firm sets prices according to the rule-of-thumb: $p_t = (1+\\lambda_m) c_t$.  In this case, the stacked first order conditions are $p_t - c_t = \\Delta_{Rt}$ where $$\\Delta_{Rt} = \\lambda_m c_t$$\n",
    "Equivalently, markups can be equivalently expressed as a function of prices, or \n",
    "$$\\Delta_{Rt} = \\frac{\\lambda}{1+\\lambda}p_t$$\n",
    "\n",
    "For now, pyRVtest only accomodates models where $\\lambda_m$ is constant across firms and markets.  \n",
    "\n",
    "For example, to include model of rule-of-thumb $\\lambda_m$, the researcher specifies within the `ModelFormulation`, a `cost_scaling` option equal to the scalar value $\\texttt{lambda}\\_\\texttt{m}$ (If markups are equal to cost or equivalently 50% of price, then $\\texttt{lambda}\\_\\texttt{m}$ = 1.  Instead, if markups are equal to 50% of cost or equivalently 1/3 of price, then $\\texttt{lambda}\\_\\texttt{m}$ = 0.5)"
   ]
  },
  {
   "cell_type": "code",
   "execution_count": 9,
   "metadata": {},
   "outputs": [],
   "source": [
    "lambda_m = 'cost_scaling_column'\n",
    "model_formulation = pyRVtest.ModelFormulation(model_downstream='perfect_competition', cost_scaling = lambda_m)"
   ]
  },
  {
   "cell_type": "markdown",
   "metadata": {},
   "source": [
    "## Bertrand with Scaled Costs: $m = SC$\n",
    "\n",
    "Next, consider a class of models where firms choose their own prices in market $t$ to solve:\n",
    "$$ \\max_{p_{ft}} \\sum_{j\\in\\mathcal{J}_{ft}} (p_{jt} - \\lambda_m c_{jt}) s_{jt}(p_{t})$$ \n",
    "The stacked first-order conditions across firms in market $t$ can be written as $(p_{t} - c_{t}) = \\Delta_{SCt}$ where $$\\Delta_{SCt} = \\Delta_{Bt}  + (1-\\lambda_m) c_{t}$$ and $\\Delta_{Bt}$ are the Bertrand markups.\n",
    "Markups of this form arise in the model of collusion\n",
    "considered in Harrington (2022), where firms collude via cost coordination. These markups\n",
    "also arise in settings where two firms compete a la Bertrand in prices, but each one maximizes\n",
    "a weighted sum of profits and revenues, where $\\frac{1-\\lambda_m}{\\lambda_m}$ is the weight put on revenue relative to profit (e.g., Baumol, 1958). \n",
    "\n",
    "For now, pyRVtest only accomodates models where $\\lambda_m$ is constant across firms and markets.  \n",
    "\n",
    "For example, to include model with cost-scaling $\\lambda_m$, the researcher specifies within the `ModelFormulation`, a `cost_scaling` option equal to the scalar value $\\texttt{lambda}\\_\\texttt{m}$:"
   ]
  },
  {
   "cell_type": "code",
   "execution_count": 10,
   "metadata": {},
   "outputs": [],
   "source": [
    "model_formulation = pyRVtest.ModelFormulation(model_downstream='bertrand', ownership_downstream='firm_ids', cost_scaling=lambda_m)"
   ]
  },
  {
   "cell_type": "markdown",
   "metadata": {},
   "source": [
    "## Constant Markup Models: $m = CM$\n",
    "\n",
    "Next, consider a class of models where the markup for each product $j$ in each market $t$ is equal to a constant $\\eta_{jt}$ which does not depend on demand or cost, or \n",
    "$$\\Delta_{CMjt} = \\eta_{jt}$$\n",
    "\n",
    "The researcher can include a constant markup model in the menu to be tested by using within `ModelFormulation` the `user_specified_markups` option.  Here, the user creates a column in `product_data` where each row is the value $\\eta_{jt}$ corresponding to product $j$ in market $t$.  If this column is named $\\texttt{eta}$, the `ModelFormulation` is:"
   ]
  },
  {
   "cell_type": "code",
   "execution_count": 11,
   "metadata": {},
   "outputs": [],
   "source": [
    "model_formulation = pyRVtest.ModelFormulation(model_downstream='bertrand', user_supplied_markups='eta')"
   ]
  },
  {
   "cell_type": "markdown",
   "metadata": {},
   "source": [
    "## Vertical Models with unobserved wholesale costs\n",
    "\n",
    "Now we consider models with vertical interactions between retailers and wholesalers (we denote each with superscript $r$ and $w$ respectively).  Consider the simple linear pricing model from Villas-Boas (2007) where wholesalers individually set wholesale prices $p^w_t$ to maximize their profits in market $t$, and, given $p^w_t$, retailers choose retailer prices $p^r_t$ to maximize their profits in the same market.  Assuming that wholesale prices are unobserved, we can sum the stacked first order conditions for wholesalers and retailers to obtain:\n",
    "\n",
    "$$p^r_{t} - c^r_t - c^w_t = \\Delta^r_{Bt} + \\Delta^w_{Bt}$$\n",
    "\n",
    "where $\\Delta^r_{Bt}$, the vector of retailer Bertrand markups, are: \n",
    "$$\\Delta^r_{Bt} = -\\left(\\Omega^r_t \\odot \\frac{\\partial s_t}{\\partial p^r_t} \\right)^{-1}s_t$$\n",
    "and $\\Delta^w_{Bt}$, the vector of wholesaler Bertrand markups, are:\n",
    "$$\\Delta^w_{Bt}-\\left(\\Omega^w_t \\odot \\frac{\\partial s_t}{\\partial p^w_t} \\right)^{-1}s_t$$\n",
    "\n",
    "If a researcher wants to include linear pricing in the menu of models to be tested, she must specify as columns of `product_data` both retailer ids and wholesaler ids.  Assuming these are called, respectively, retailer_ids and wholesaler_ids, the following `ModelFormulation` is used:"
   ]
  },
  {
   "cell_type": "code",
   "execution_count": 12,
   "metadata": {},
   "outputs": [],
   "source": [
    "model_formulation = pyRVtest.ModelFormulation(model_downstream='bertrand', ownership_downstream='retailer_ids', model_upstream='bertrand', ownership_upstream='wholesaler_ids')"
   ]
  },
  {
   "cell_type": "markdown",
   "metadata": {},
   "source": [
    "One could allow for a different model upstream or downstream by changing the name of `model_downstream` and `model_upstream` (for example, in the context of consumer packaged goods market, if each store is a market, then the downstream model is monopoly).  One can also allow for profit weights or non-profit conduct in $\\Omega^r_t$ and $\\Omega^w_t$ by specifying `kappa_specification_downstream` and `kappa_specification_upstream`.  A `ModelFormulation` can also accomodate partial vertical integration in a market using the `vertical_integration` option.  In this case, the `product_data` must contain a column which equals one if the product is vertically integrated in the given market and zero otherwise.  Supposing this column is named vi_id, the linear pricing model with partial vertical integration can be specified with the following `ModelFormulation`"
   ]
  },
  {
   "cell_type": "code",
   "execution_count": 13,
   "metadata": {},
   "outputs": [],
   "source": [
    "model_formulation = pyRVtest.ModelFormulation(model_downstream='bertrand', ownership_downstream='retailer_ids', model_upstream='bertrand', ownership_upstream='wholesaler_ids', vertical_integration='vi_id')"
   ]
  },
  {
   "cell_type": "markdown",
   "metadata": {},
   "source": [
    "## Options to Test Other Models:\n",
    "\n",
    "If the user wants to include in the menu models not included in the current library, there are two options.\n",
    "\n",
    "First, if the model of conduct implies a vector of markups which are a known function of XX, then the user can pass that function using the `custom_model_specification` input for a `ModelFormulation`.  For example, if we wanted to test the Bertrand markups using this option, we would write:"
   ]
  },
  {
   "cell_type": "code",
   "execution_count": 13,
   "metadata": {},
   "outputs": [],
   "source": []
  },
  {
   "cell_type": "markdown",
   "metadata": {},
   "source": [
    "Otherwise, if the markups the user wishes to test are not a known function of XX, the user can pass an arbitrary vector using the `user_specified_markups` option as illustrtated for the Constant Markup Models above. For example, if the user creates column of the `product_data` called my_markups, the user can test these markups by defining the following `ModelFormulation`: "
   ]
  },
  {
   "cell_type": "code",
   "execution_count": 14,
   "metadata": {},
   "outputs": [],
   "source": [
    "model_formulation = pyRVtest.ModelFormulation(model_downstream='bertrand', user_supplied_markups='my_markups')"
   ]
  },
  {
   "cell_type": "markdown",
   "metadata": {},
   "source": [
    "Please note, when using the option `user_specified_markups`, $\\textbf{the code is not able to adjust}$ the pairwise RV test statistics, the model confidence set, and the pariwise F-statistics for the errors coming from demand estimation or for clustering."
   ]
  },
  {
   "cell_type": "markdown",
   "metadata": {},
   "source": [
    "## References\n",
    "\n",
    "<a name=\"b\">Baumol, William “On the Theory of Oligopoly,” Economica, 25, (1958): 187–198.</a>\n",
    "\n",
    "<a name=\"bcs\">Backus, Matthew, Christopher Conlon, and Michael Sinkinson. \"Common Ownership and Competition in the Ready-to-Eat Cereal Industry,\" NBER Working Paper No. 28350 (2021).</a>\n",
    "\n",
    "<a name=\"dlr\">Duarte, Marco, Lorenzo Magnolfi, and Camilla Roncoroni. \"The Competitive Conduct of Consumer Cooperatives,\" (2021): Working paper.</a>\n",
    "\n",
    "<a name=\"h\">Harrington, Joseph. \"Cost Coordination.\" Working Paper, 2023.</a>\n",
    "\n",
    "<a name=\"mw\">Miller, Nathan and Matthew Weinberg “Understanding the Price Effects of the MillerCoors\n",
    "Joint Venture,” Econometrica, 85, (2017): 1763–1791.</a>\n",
    "\n",
    "<a name=\"s\">Villas-Boas, Sofia.  “Vertical Relationships between Manufacturers and Retailers: In-\n",
    "ference with Limited Data,” Review of Economic Studies, 74, (2007): 625–652.</a> \n",
    "\n",
    "\n"
   ]
  }
 ],
 "metadata": {
  "kernelspec": {
   "display_name": "Python 3 (ipykernel)",
   "language": "python",
   "name": "python3"
  },
  "language_info": {
   "codemirror_mode": {
    "name": "ipython",
    "version": 3
   },
   "file_extension": ".py",
   "mimetype": "text/x-python",
   "name": "python",
   "nbconvert_exporter": "python",
   "pygments_lexer": "ipython3",
   "version": "3.9.7"
  }
 },
 "nbformat": 4,
 "nbformat_minor": 1
}
